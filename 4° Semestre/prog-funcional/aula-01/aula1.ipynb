{
 "cells": [
  {
   "cell_type": "code",
   "execution_count": 7,
   "metadata": {},
   "outputs": [
    {
     "name": "stdout",
     "output_type": "stream",
     "text": [
      "Olá\n"
     ]
    }
   ],
   "source": [
    "print(\"Olá\");"
   ]
  },
  {
   "cell_type": "markdown",
   "metadata": {},
   "source": [
    "### Aula Introdução"
   ]
  },
  {
   "cell_type": "code",
   "execution_count": 13,
   "metadata": {},
   "outputs": [
    {
     "name": "stdout",
     "output_type": "stream",
     "text": [
      "<class 'int'>\n",
      "<class 'float'>\n",
      "<class 'str'>\n"
     ]
    }
   ],
   "source": [
    "x = 2\n",
    "print(type(x))\n",
    "x = 2.0\n",
    "print(type(x))\n",
    "x = '2'\n",
    "print(type(x))"
   ]
  },
  {
   "cell_type": "code",
   "execution_count": 20,
   "metadata": {},
   "outputs": [
    {
     "name": "stdout",
     "output_type": "stream",
     "text": [
      "True\n",
      "False\n",
      "2.2\n",
      "Aqui eu falo minha lingua\n",
      "Também falo sua\n",
      "eu vou falar \"sua ligua\"\n",
      "Você é muito muito muito legal\n",
      "5\n",
      "23\n"
     ]
    }
   ],
   "source": [
    "print(True)\n",
    "print(False)\n",
    "print(1.2 + 1)\n",
    "print('Aqui eu falo minha lingua')\n",
    "print(\"Também falo sua\")\n",
    "print('eu vou falar \"sua ligua\"')\n",
    "print('Você é ' + 3 * 'muito ' + 'legal')\n",
    "print(2 + 3)\n",
    "print('2' + '3')\n",
    "# print('2' + 3)"
   ]
  },
  {
   "cell_type": "code",
   "execution_count": 21,
   "metadata": {},
   "outputs": [
    {
     "name": "stdout",
     "output_type": "stream",
     "text": [
      "15.2\n"
     ]
    }
   ],
   "source": [
    "a = 10\n",
    "b = 5.2\n",
    "\n",
    "print(a + b)"
   ]
  },
  {
   "cell_type": "code",
   "execution_count": 41,
   "metadata": {},
   "outputs": [
    {
     "data": {
      "text/plain": [
       "'lente'"
      ]
     },
     "execution_count": 41,
     "metadata": {},
     "output_type": "execute_result"
    }
   ],
   "source": [
    "frase = 'Python é uma linguagem excelente'\n",
    "type(frase)\n",
    "\n",
    "'ma' in frase\n",
    "\n",
    "len(frase)\n",
    "\n",
    "frase[5]\n",
    "frase[5:10]\n",
    "frase[5:11]\n",
    "frase[5:]\n",
    "frase[:5]\n",
    "frase[-5:]\n",
    "frase[:-5]"
   ]
  },
  {
   "cell_type": "code",
   "execution_count": 43,
   "metadata": {},
   "outputs": [
    {
     "data": {
      "text/plain": [
       "'24680'"
      ]
     },
     "execution_count": 43,
     "metadata": {},
     "output_type": "execute_result"
    }
   ],
   "source": [
    "numeros = '1234567890'\n",
    "\n",
    "numeros[::2]\n",
    "numeros[1::2]\n",
    "numeros[::-1]"
   ]
  }
 ],
 "metadata": {
  "kernelspec": {
   "display_name": "Python 3",
   "language": "python",
   "name": "python3"
  },
  "language_info": {
   "codemirror_mode": {
    "name": "ipython",
    "version": 3
   },
   "file_extension": ".py",
   "mimetype": "text/x-python",
   "name": "python",
   "nbconvert_exporter": "python",
   "pygments_lexer": "ipython3",
   "version": "3.12.4"
  }
 },
 "nbformat": 4,
 "nbformat_minor": 2
}
