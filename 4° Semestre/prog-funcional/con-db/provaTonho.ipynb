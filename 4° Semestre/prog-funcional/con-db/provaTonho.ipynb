{
 "cells": [
  {
   "cell_type": "code",
   "execution_count": 23,
   "metadata": {},
   "outputs": [],
   "source": [
    "import sqlite3\n",
    "from datetime import datetime\n",
    "\n",
    "def conectar():\n",
    "    try:\n",
    "        con = sqlite3.connect('curso.db')  \n",
    "        return con\n",
    "    except sqlite3.Error as err:\n",
    "        return None"
   ]
  },
  {
   "cell_type": "code",
   "execution_count": 24,
   "metadata": {},
   "outputs": [],
   "source": [
    "def criar_tabelas():\n",
    "    con = conectar()\n",
    "    if con:\n",
    "        cursor = con.cursor()\n",
    "        tabela_curso = \"\"\"\n",
    "            CREATE TABLE IF NOT EXISTS curso(\n",
    "                cursoID INTEGER PRIMARY KEY,\n",
    "                name TEXT,\n",
    "                studyArea TEXT\n",
    "            )\n",
    "        \"\"\"\n",
    "        \n",
    "        tabela_student = \"\"\"\n",
    "            CREATE TABLE IF NOT EXISTS student(\n",
    "                studentID INTEGER PRIMARY KEY,\n",
    "                cursoID INTEGER,\n",
    "                name TEXT,\n",
    "                created DATETIME,\n",
    "                age INTEGER,\n",
    "                cpf TEXT,\n",
    "                FOREIGN KEY (cursoID) REFERENCES curso(cursoID)\n",
    "            )\n",
    "        \"\"\"\n",
    "        try:\n",
    "            cursor.execute(tabela_curso)\n",
    "            cursor.execute(tabela_student)\n",
    "            con.commit()\n",
    "        except sqlite3.Error as err:\n",
    "            pass\n",
    "        finally:\n",
    "            cursor.close()\n",
    "            con.close()\n",
    "\n",
    "criar_tabelas()  "
   ]
  },
  {
   "cell_type": "code",
   "execution_count": 25,
   "metadata": {},
   "outputs": [
    {
     "name": "stdout",
     "output_type": "stream",
     "text": [
      "Aluno alex inserido com sucesso.\n"
     ]
    }
   ],
   "source": [
    "def inserir_student():\n",
    "    studentID = int(input(\"Digite o ID do aluno: \"))\n",
    "    cursoID = int(input(\"Digite o ID do curso: \"))\n",
    "    name = input(\"Digite o nome do aluno: \")\n",
    "    created = datetime.now().strftime('%Y-%m-%d %H:%M:%S')\n",
    "    age = int(input(\"Digite a idade do aluno: \"))\n",
    "    cpf = input(\"Digite o CPF do aluno: \")\n",
    "\n",
    "    con = conectar()\n",
    "    if con:\n",
    "        cursor = con.cursor()\n",
    "        sql = 'INSERT INTO student (studentID, cursoID, name, created, age, cpf) VALUES (?, ?, ?, ?, ?, ?)'\n",
    "        args = (studentID, cursoID, name, created, age, cpf)\n",
    "        try:\n",
    "            cursor.execute(sql, args)\n",
    "            con.commit()\n",
    "            print(f\"Aluno {name} inserido com sucesso.\")\n",
    "        except sqlite3.Error as err:\n",
    "            print(\"Erro ao inserir aluno.\")\n",
    "        finally:\n",
    "            cursor.close()\n",
    "            con.close()\n",
    "\n",
    "inserir_student() \n"
   ]
  },
  {
   "cell_type": "code",
   "execution_count": 27,
   "metadata": {},
   "outputs": [
    {
     "name": "stdout",
     "output_type": "stream",
     "text": [
      "ID: 1 | Nome: alex\n"
     ]
    }
   ],
   "source": [
    "def listar_students():\n",
    "    con = conectar()\n",
    "    if con:\n",
    "        cursor = con.cursor()\n",
    "        sql = 'SELECT studentID, name FROM student'\n",
    "        try:\n",
    "            cursor.execute(sql)\n",
    "            students = cursor.fetchall()\n",
    "            if students:\n",
    "                for student in students:\n",
    "                    print(f\"ID: {student[0]} | Nome: {student[1]}\")\n",
    "            else:\n",
    "                print(\"Nenhum aluno encontrado.\")\n",
    "        except sqlite3.Error as err:\n",
    "            print(\"Erro ao listar alunos.\")\n",
    "        finally:\n",
    "            cursor.close()\n",
    "            con.close()\n",
    "\n",
    "listar_students()  \n"
   ]
  },
  {
   "cell_type": "code",
   "execution_count": 28,
   "metadata": {},
   "outputs": [
    {
     "name": "stdout",
     "output_type": "stream",
     "text": [
      "Aluno com ID 1 atualizado com sucesso.\n"
     ]
    }
   ],
   "source": [
    "def atualizar_student():\n",
    "    studentID = int(input(\"Digite o ID do aluno para atualizar: \"))\n",
    "    novo_nome = input(\"Digite o novo nome do aluno: \")\n",
    "    nova_idade = int(input(\"Digite a nova idade do aluno: \"))\n",
    "\n",
    "    con = conectar()\n",
    "    if con:\n",
    "        cursor = con.cursor()\n",
    "        sql = 'UPDATE student SET name = ?, age = ? WHERE studentID = ?'\n",
    "        args = (novo_nome, nova_idade, studentID)\n",
    "        try:\n",
    "            cursor.execute(sql, args)\n",
    "            con.commit()\n",
    "            print(f\"Aluno com ID {studentID} atualizado com sucesso.\")\n",
    "        except sqlite3.Error as err:\n",
    "            print(\"Erro ao atualizar aluno.\")\n",
    "        finally:\n",
    "            cursor.close()\n",
    "            con.close()\n",
    "\n",
    "atualizar_student() "
   ]
  },
  {
   "cell_type": "code",
   "execution_count": 29,
   "metadata": {},
   "outputs": [
    {
     "name": "stdout",
     "output_type": "stream",
     "text": [
      "Aluno com ID 1 excluído com sucesso.\n"
     ]
    }
   ],
   "source": [
    "def excluir_student():\n",
    "    studentID = int(input(\"Digite o ID do aluno para excluir: \"))\n",
    "\n",
    "    con = conectar()\n",
    "    if con:\n",
    "        cursor = con.cursor()\n",
    "        sql = 'DELETE FROM student WHERE studentID = ?'\n",
    "        args = (studentID,)\n",
    "        try:\n",
    "            cursor.execute(sql, args)\n",
    "            con.commit()\n",
    "            print(f\"Aluno com ID {studentID} excluído com sucesso.\")\n",
    "        except sqlite3.Error as err:\n",
    "            print(\"Erro ao excluir aluno.\")\n",
    "        finally:\n",
    "            cursor.close()\n",
    "            con.close()\n",
    "\n",
    "excluir_student()  "
   ]
  },
  {
   "cell_type": "code",
   "execution_count": 30,
   "metadata": {},
   "outputs": [
    {
     "name": "stdout",
     "output_type": "stream",
     "text": [
      "Curso curso inserido com sucesso.\n"
     ]
    }
   ],
   "source": [
    "def inserir_curso():\n",
    "    cursoID = int(input(\"Digite o ID do curso: \"))\n",
    "    name = input(\"Digite o nome do curso: \")\n",
    "    studyArea = input(\"Digite a área de estudo do curso: \")\n",
    "\n",
    "    con = conectar()\n",
    "    if con:\n",
    "        cursor = con.cursor()\n",
    "        sql = 'INSERT INTO curso (cursoID, name, studyArea) VALUES (?, ?, ?)'\n",
    "        args = (cursoID, name, studyArea)\n",
    "        try:\n",
    "            cursor.execute(sql, args)\n",
    "            con.commit()\n",
    "            print(f\"Curso {name} inserido com sucesso.\")\n",
    "        except sqlite3.Error as err:\n",
    "            print(\"Erro ao inserir curso.\")\n",
    "        finally:\n",
    "            cursor.close()\n",
    "            con.close()\n",
    "\n",
    "inserir_curso()  "
   ]
  },
  {
   "cell_type": "code",
   "execution_count": 33,
   "metadata": {},
   "outputs": [
    {
     "name": "stdout",
     "output_type": "stream",
     "text": [
      "ID: 1 | Nome: math atualizado | Área de Estudo: math atualizado\n"
     ]
    }
   ],
   "source": [
    "def listar_cursos():\n",
    "    con = conectar()\n",
    "    if con:\n",
    "        cursor = con.cursor()\n",
    "        sql = 'SELECT cursoID, name, studyArea FROM curso'\n",
    "        try:\n",
    "            cursor.execute(sql)\n",
    "            cursos = cursor.fetchall()\n",
    "            if cursos:\n",
    "                for curso in cursos:\n",
    "                    print(f\"ID: {curso[0]} | Nome: {curso[1]} | Área de Estudo: {curso[2]}\")\n",
    "            else:\n",
    "                print(\"Nenhum curso encontrado.\")\n",
    "        except sqlite3.Error as err:\n",
    "            print(\"Erro ao listar cursos.\")\n",
    "        finally:\n",
    "            cursor.close()\n",
    "            con.close()\n",
    "\n",
    "listar_cursos() \n"
   ]
  },
  {
   "cell_type": "code",
   "execution_count": 32,
   "metadata": {},
   "outputs": [
    {
     "name": "stdout",
     "output_type": "stream",
     "text": [
      "Curso com ID 1 atualizado com sucesso.\n"
     ]
    }
   ],
   "source": [
    "def atualizar_curso():\n",
    "    cursoID = int(input(\"Digite o ID do curso para atualizar: \"))\n",
    "    novo_nome = input(\"Digite o novo nome do curso: \")\n",
    "    nova_area_estudo = input(\"Digite a nova área de estudo do curso: \")\n",
    "\n",
    "    con = conectar()\n",
    "    if con:\n",
    "        cursor = con.cursor()\n",
    "        sql = 'UPDATE curso SET name = ?, studyArea = ? WHERE cursoID = ?'\n",
    "        args = (novo_nome, nova_area_estudo, cursoID)\n",
    "        try:\n",
    "            cursor.execute(sql, args)\n",
    "            con.commit()\n",
    "            print(f\"Curso com ID {cursoID} atualizado com sucesso.\")\n",
    "        except sqlite3.Error as err:\n",
    "            print(\"Erro ao atualizar curso.\")\n",
    "        finally:\n",
    "            cursor.close()\n",
    "            con.close()\n",
    "\n",
    "atualizar_curso()  \n"
   ]
  },
  {
   "cell_type": "code",
   "execution_count": 34,
   "metadata": {},
   "outputs": [
    {
     "name": "stdout",
     "output_type": "stream",
     "text": [
      "Curso com ID 1 excluído com sucesso.\n"
     ]
    }
   ],
   "source": [
    "def excluir_curso():\n",
    "    cursoID = int(input(\"Digite o ID do curso para excluir: \"))\n",
    "\n",
    "    con = conectar()\n",
    "    if con:\n",
    "        cursor = con.cursor()\n",
    "        sql = 'DELETE FROM curso WHERE cursoID = ?'\n",
    "        args = (cursoID,)\n",
    "        try:\n",
    "            cursor.execute(sql, args)\n",
    "            con.commit()\n",
    "            print(f\"Curso com ID {cursoID} excluído com sucesso.\")\n",
    "        except sqlite3.Error as err:\n",
    "            print(\"Erro ao excluir curso.\")\n",
    "        finally:\n",
    "            cursor.close()\n",
    "            con.close()\n",
    "\n",
    "excluir_curso()  "
   ]
  }
 ],
 "metadata": {
  "kernelspec": {
   "display_name": "Python 3",
   "language": "python",
   "name": "python3"
  },
  "language_info": {
   "codemirror_mode": {
    "name": "ipython",
    "version": 3
   },
   "file_extension": ".py",
   "mimetype": "text/x-python",
   "name": "python",
   "nbconvert_exporter": "python",
   "pygments_lexer": "ipython3",
   "version": "3.12.4"
  }
 },
 "nbformat": 4,
 "nbformat_minor": 2
}
