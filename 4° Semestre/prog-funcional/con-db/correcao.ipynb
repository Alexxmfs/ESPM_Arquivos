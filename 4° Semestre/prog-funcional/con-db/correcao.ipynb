{
 "cells": [
  {
   "cell_type": "code",
   "execution_count": 3,
   "metadata": {},
   "outputs": [
    {
     "name": "stdout",
     "output_type": "stream",
     "text": [
      "Table created successfully\n"
     ]
    }
   ],
   "source": [
    "import mysql.connector\n",
    "from datetime import datetime\n",
    "\n",
    "def conectar():\n",
    "    try:\n",
    "        con = mysql.connector.connect(\n",
    "            host='localhost', \n",
    "            database='curso', \n",
    "            user='root', \n",
    "            password='root', \n",
    "            port='3390'\n",
    "        )\n",
    "        return con\n",
    "    except mysql.connector.Error as err:\n",
    "        return None\n"
   ]
  },
  {
   "cell_type": "code",
   "execution_count": 9,
   "metadata": {},
   "outputs": [],
   "source": [
    "idauthor = int(input(\"Enter auhtor ID: \"))\n",
    "nome = input(\"Enter author name: \")\n",
    "\n",
    "def insert_author(idauthor, nome):\n",
    "    try:\n",
    "        conn = sqlite3.connect('blog.db')\n",
    "    \n",
    "        cursor = conn.cursor()\n",
    "    \n",
    "        cursor.execute(\"\"\" INSERT INTO author (authorID, name) VALUES (?, ?) \"\"\", (idauthor, nome))\n",
    "\n",
    "        conn.commit()\n",
    "        conn.close()\n",
    "    except sqlite3.Error as e:\n",
    "        print(\"Error: \", e)\n",
    "        \n",
    "insert_author(idauthor, nome)"
   ]
  },
  {
   "cell_type": "code",
   "execution_count": 5,
   "metadata": {},
   "outputs": [
    {
     "name": "stdout",
     "output_type": "stream",
     "text": [
      "Author update successfully\n"
     ]
    }
   ],
   "source": [
    "conn = sqlite3.connect('blog.db')\n",
    "\n",
    "cursor = conn.cursor()\n",
    "\n",
    "idauthor = int(input(\"Enter auhtor ID: \"))\n",
    "nome = input(\"Enter author name: \")\n",
    "\n",
    "cursor.execute(\"\"\" UPDATE author SET name = ? WHERE authorID = ? \"\"\", (nome, idauthor))\n",
    "\n",
    "conn.commit()\n",
    "conn.close()\n",
    "print(\"Author update successfully\")"
   ]
  },
  {
   "cell_type": "code",
   "execution_count": 10,
   "metadata": {},
   "outputs": [
    {
     "name": "stdout",
     "output_type": "stream",
     "text": [
      "(1, 'alek')\n"
     ]
    }
   ],
   "source": [
    "conn = sqlite3.connect('blog.db')\n",
    "\n",
    "cursor = conn.cursor()\n",
    "\n",
    "cursor.execute(\"\"\" SELECT * FROM author \"\"\")\n",
    "\n",
    "for linha in cursor.fetchall():\n",
    "    print(linha)\n",
    "\n",
    "    conn.commit()\n",
    "    conn.close()"
   ]
  },
  {
   "cell_type": "code",
   "execution_count": 1,
   "metadata": {},
   "outputs": [
    {
     "ename": "NameError",
     "evalue": "name 'sqlite3' is not defined",
     "output_type": "error",
     "traceback": [
      "\u001b[1;31m---------------------------------------------------------------------------\u001b[0m",
      "\u001b[1;31mNameError\u001b[0m                                 Traceback (most recent call last)",
      "Cell \u001b[1;32mIn[1], line 1\u001b[0m\n\u001b[1;32m----> 1\u001b[0m conn \u001b[38;5;241m=\u001b[39m \u001b[43msqlite3\u001b[49m\u001b[38;5;241m.\u001b[39mconnect(\u001b[38;5;124m'\u001b[39m\u001b[38;5;124mblog.db\u001b[39m\u001b[38;5;124m'\u001b[39m)\n\u001b[0;32m      2\u001b[0m cursor \u001b[38;5;241m=\u001b[39m conn\u001b[38;5;241m.\u001b[39mcursor()\n\u001b[0;32m      4\u001b[0m cursor\u001b[38;5;241m.\u001b[39mexecute(\u001b[38;5;124m\"\"\"\u001b[39m\u001b[38;5;124m DELETE FROM author WHERE authorID = ? \u001b[39m\u001b[38;5;124m\"\"\"\u001b[39m, (idauthor, ))\n",
      "\u001b[1;31mNameError\u001b[0m: name 'sqlite3' is not defined"
     ]
    }
   ],
   "source": [
    "conn = sqlite3.connect('blog.db')\n",
    "cursor = conn.cursor()\n",
    "\n",
    "cursor.execute(\"\"\" DELETE FROM author WHERE authorID = ? \"\"\", (idauthor, ))\n",
    "\n",
    "conn.commit()\n",
    "conn.close()\n",
    "print(\"Author delete successfully\")"
   ]
  }
 ],
 "metadata": {
  "kernelspec": {
   "display_name": "Python 3",
   "language": "python",
   "name": "python3"
  },
  "language_info": {
   "codemirror_mode": {
    "name": "ipython",
    "version": 3
   },
   "file_extension": ".py",
   "mimetype": "text/x-python",
   "name": "python",
   "nbconvert_exporter": "python",
   "pygments_lexer": "ipython3",
   "version": "3.12.4"
  }
 },
 "nbformat": 4,
 "nbformat_minor": 2
}
