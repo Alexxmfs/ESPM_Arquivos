{
 "cells": [
  {
   "cell_type": "code",
   "execution_count": 73,
   "metadata": {},
   "outputs": [
    {
     "ename": "ValueError",
     "evalue": "invalid literal for int() with base 10: ''",
     "output_type": "error",
     "traceback": [
      "\u001b[1;31m---------------------------------------------------------------------------\u001b[0m",
      "\u001b[1;31mValueError\u001b[0m                                Traceback (most recent call last)",
      "Cell \u001b[1;32mIn[73], line 2\u001b[0m\n\u001b[0;32m      1\u001b[0m x \u001b[38;5;241m=\u001b[39m \u001b[38;5;241m5\u001b[39m\n\u001b[1;32m----> 2\u001b[0m y \u001b[38;5;241m=\u001b[39m \u001b[38;5;28;43mint\u001b[39;49m\u001b[43m(\u001b[49m\u001b[38;5;28;43minput\u001b[39;49m\u001b[43m(\u001b[49m\u001b[38;5;124;43m'\u001b[39;49m\u001b[38;5;124;43mDigite um número\u001b[39;49m\u001b[38;5;124;43m'\u001b[39;49m\u001b[43m)\u001b[49m\u001b[43m)\u001b[49m;\n\u001b[0;32m      4\u001b[0m x \u001b[38;5;241m+\u001b[39m y\n\u001b[0;32m      5\u001b[0m \u001b[38;5;28;01mif\u001b[39;00m x \u001b[38;5;241m>\u001b[39m\u001b[38;5;241m=\u001b[39m \u001b[38;5;241m5\u001b[39m \u001b[38;5;129;01mand\u001b[39;00m y \u001b[38;5;241m>\u001b[39m \u001b[38;5;241m5\u001b[39m:\n",
      "\u001b[1;31mValueError\u001b[0m: invalid literal for int() with base 10: ''"
     ]
    }
   ],
   "source": [
    "x = 5\n",
    "y = int(input('Digite um número'));\n",
    "\n",
    "x + y\n",
    "if x >= 5 and y > 5:\n",
    "    print('maior ou igual a 5')\n",
    "elif x == 5 or y == 5:\n",
    "    print('igual a 5')\n",
    "else:\n",
    "    print('menor que 5')"
   ]
  },
  {
   "cell_type": "markdown",
   "metadata": {},
   "source": [
    "### Listas\n"
   ]
  },
  {
   "cell_type": "code",
   "execution_count": null,
   "metadata": {},
   "outputs": [
    {
     "data": {
      "text/plain": [
       "[1, 'Ana', 'Chico', 'Bia', 'Andre', ['Python', 'Java', 'C', 'C++']]"
      ]
     },
     "execution_count": 40,
     "metadata": {},
     "output_type": "execute_result"
    }
   ],
   "source": [
    "lista = []\n",
    "type(lista)\n",
    "dir(lista)\n",
    "\n",
    "lista.append(1)\n",
    "lista.append(5)\n",
    "lista\n",
    "\n",
    "lista = [1, 5, 'Ana', 'Bia']\n",
    "lista\n",
    "type(lista)\n",
    "type(lista[2])\n",
    "\n",
    "lista[1:]\n",
    "\n",
    "lista.append('Andre')\n",
    "lista\n",
    "\n",
    "lista.append(['Python', 'Java', 'C', 'C++'])\n",
    "lista\n",
    "\n",
    "lista[1:]\n",
    "lista[1:][4][1]\n",
    "lista[1:][4][1][2]\n",
    "\n",
    "lista\n",
    "\n",
    "'Ana' in lista\n",
    "'Python' in lista\n",
    "'Python' in lista[5]\n",
    "\n",
    "lista\n",
    "lista.remove(5)\n",
    "lista.index('Bia')\n",
    "lista.insert(2, 'Chico')\n",
    "lista"
   ]
  },
  {
   "cell_type": "code",
   "execution_count": null,
   "metadata": {},
   "outputs": [
    {
     "data": {
      "text/plain": [
       "('Verde', 'Amarelo', 'Azul', 'branco')"
      ]
     },
     "execution_count": 45,
     "metadata": {},
     "output_type": "execute_result"
    }
   ],
   "source": [
    "cores = ('Verde', 'Amarelo', 'Azul', 'branco')\n",
    "type(cores)\n",
    "cores[0]\n",
    "cores[-1]\n",
    "cores"
   ]
  },
  {
   "cell_type": "code",
   "execution_count": null,
   "metadata": {},
   "outputs": [
    {
     "data": {
      "text/plain": [
       "{'nome': 'Prof(a). Ana',\n",
       " 'idade': 40,\n",
       " 'cursos': ['Inglês', 'Português'],\n",
       " 'Sexo': 'Feminino'}"
      ]
     },
     "execution_count": 67,
     "metadata": {},
     "output_type": "execute_result"
    }
   ],
   "source": [
    "pessoa = {'nome': 'Prof(a). Ana', 'idade': 38, 'cursos': ['Inglês', 'Português']}\n",
    "pessoa['idade']\n",
    "pessoa.keys()\n",
    "pessoa.values()\n",
    "x = list(pessoa.items())\n",
    "type(x)\n",
    "x[1]\n",
    "x[1][1]\n",
    "\n",
    "pessoa['cursos']\n",
    "pessoa['cursos'][1]\n",
    "pessoa['cursos'][1][1:4]\n",
    "pessoa['cursos'][1][1:4][2]\n",
    "\n",
    "pessoa['idade'] = 32\n",
    "\n",
    "pessoa.update({'idade': 40, 'Sexo': 'Feminino'})\n",
    "pessoa"
   ]
  },
  {
   "cell_type": "code",
   "execution_count": null,
   "metadata": {},
   "outputs": [
    {
     "data": {
      "text/plain": [
       "[{'nome': 'Prof(a). Ana', 'idade': 38, 'cursos': ['C#', 'Python']},\n",
       " {'nome': 'Andre', 'idade': 37, 'cursos': ['C#', 'Python', 'C', 'C++']},\n",
       " {'nome': 'Guilherme', 'idade': 27, 'cursos': ['Python', 'Java', 'Node']}]"
      ]
     },
     "execution_count": 69,
     "metadata": {},
     "output_type": "execute_result"
    }
   ],
   "source": [
    "pessoas = []\n",
    "\n",
    "pessoas.append({'nome': 'Prof(a). Ana', 'idade': 38, 'cursos': ['C#', 'Python']})\n",
    "pessoas.append({'nome': 'Andre', 'idade': 37, 'cursos': ['C#', 'Python', 'C', 'C++']})\n",
    "pessoas.append({'nome': 'Guilherme', 'idade': 27, 'cursos': ['Python', 'Java', 'Node']})\n",
    "\n",
    "pessoas"
   ]
  },
  {
   "cell_type": "code",
   "execution_count": 77,
   "metadata": {},
   "outputs": [
    {
     "name": "stdout",
     "output_type": "stream",
     "text": [
      "1\n",
      "2\n",
      "3\n",
      "4\n",
      "5\n",
      "6\n",
      "7\n",
      "8\n",
      "9\n"
     ]
    }
   ],
   "source": [
    "for i in range(1, 10):\n",
    "    print(i)"
   ]
  },
  {
   "cell_type": "code",
   "execution_count": 81,
   "metadata": {},
   "outputs": [
    {
     "name": "stdout",
     "output_type": "stream",
     "text": [
      "1 * 1 = 1\n",
      "1 * 2 = 2\n",
      "1 * 3 = 3\n",
      "1 * 4 = 4\n",
      "1 * 5 = 5\n",
      "1 * 6 = 6\n",
      "1 * 7 = 7\n",
      "1 * 8 = 8\n",
      "1 * 9 = 9\n",
      "1 * 10 = 10\n",
      "2 * 1 = 2\n",
      "2 * 2 = 4\n",
      "2 * 3 = 6\n",
      "2 * 4 = 8\n",
      "2 * 5 = 10\n",
      "2 * 6 = 12\n",
      "2 * 7 = 14\n",
      "2 * 8 = 16\n",
      "2 * 9 = 18\n",
      "2 * 10 = 20\n",
      "3 * 1 = 3\n",
      "3 * 2 = 6\n",
      "3 * 3 = 9\n",
      "3 * 4 = 12\n",
      "3 * 5 = 15\n",
      "3 * 6 = 18\n",
      "3 * 7 = 21\n",
      "3 * 8 = 24\n",
      "3 * 9 = 27\n",
      "3 * 10 = 30\n",
      "4 * 1 = 4\n",
      "4 * 2 = 8\n",
      "4 * 3 = 12\n",
      "4 * 4 = 16\n",
      "4 * 5 = 20\n",
      "4 * 6 = 24\n",
      "4 * 7 = 28\n",
      "4 * 8 = 32\n",
      "4 * 9 = 36\n",
      "4 * 10 = 40\n",
      "5 * 1 = 5\n",
      "5 * 2 = 10\n",
      "5 * 3 = 15\n",
      "5 * 4 = 20\n",
      "5 * 5 = 25\n",
      "5 * 6 = 30\n",
      "5 * 7 = 35\n",
      "5 * 8 = 40\n",
      "5 * 9 = 45\n",
      "5 * 10 = 50\n",
      "6 * 1 = 6\n",
      "6 * 2 = 12\n",
      "6 * 3 = 18\n",
      "6 * 4 = 24\n",
      "6 * 5 = 30\n",
      "6 * 6 = 36\n",
      "6 * 7 = 42\n",
      "6 * 8 = 48\n",
      "6 * 9 = 54\n",
      "6 * 10 = 60\n",
      "7 * 1 = 7\n",
      "7 * 2 = 14\n",
      "7 * 3 = 21\n",
      "7 * 4 = 28\n",
      "7 * 5 = 35\n",
      "7 * 6 = 42\n",
      "7 * 7 = 49\n",
      "7 * 8 = 56\n",
      "7 * 9 = 63\n",
      "7 * 10 = 70\n",
      "8 * 1 = 8\n",
      "8 * 2 = 16\n",
      "8 * 3 = 24\n",
      "8 * 4 = 32\n",
      "8 * 5 = 40\n",
      "8 * 6 = 48\n",
      "8 * 7 = 56\n",
      "8 * 8 = 64\n",
      "8 * 9 = 72\n",
      "8 * 10 = 80\n",
      "9 * 1 = 9\n",
      "9 * 2 = 18\n",
      "9 * 3 = 27\n",
      "9 * 4 = 36\n",
      "9 * 5 = 45\n",
      "9 * 6 = 54\n",
      "9 * 7 = 63\n",
      "9 * 8 = 72\n",
      "9 * 9 = 81\n",
      "9 * 10 = 90\n",
      "10 * 1 = 10\n",
      "10 * 2 = 20\n",
      "10 * 3 = 30\n",
      "10 * 4 = 40\n",
      "10 * 5 = 50\n",
      "10 * 6 = 60\n",
      "10 * 7 = 70\n",
      "10 * 8 = 80\n",
      "10 * 9 = 90\n",
      "10 * 10 = 100\n"
     ]
    }
   ],
   "source": [
    "for x in range(1, 11):\n",
    "    for y in range(1, 11):\n",
    "        print(f'{x} * {y} = { x * y}')"
   ]
  },
  {
   "cell_type": "code",
   "execution_count": 85,
   "metadata": {},
   "outputs": [
    {
     "name": "stdout",
     "output_type": "stream",
     "text": [
      "A pessoas Prof(a). Ana tem 38 anos\n",
      "- C#\n",
      "- Python\n",
      "A pessoas Andre tem 37 anos\n",
      "- C#\n",
      "- Python\n",
      "- C\n",
      "- C++\n",
      "A pessoas Guilherme tem 27 anos\n",
      "- Python\n",
      "- Java\n",
      "- Node\n"
     ]
    }
   ],
   "source": [
    "pessoas = []\n",
    "\n",
    "pessoas.append({'nome': 'Prof(a). Ana', 'idade': 38, 'cursos': ['C#', 'Python']})\n",
    "pessoas.append({'nome': 'Andre', 'idade': 37, 'cursos': ['C#', 'Python', 'C', 'C++']})\n",
    "pessoas.append({'nome': 'Guilherme', 'idade': 27, 'cursos': ['Python', 'Java', 'Node']})\n",
    "\n",
    "for p in pessoas:\n",
    "    print('A pessoas ' + p['nome'] + ' tem ' + str((p['idade'])) + ' anos')\n",
    "    for curso in p['cursos']:\n",
    "        print('- ' + curso)\n",
    "    "
   ]
  }
 ],
 "metadata": {
  "kernelspec": {
   "display_name": "Python 3",
   "language": "python",
   "name": "python3"
  },
  "language_info": {
   "codemirror_mode": {
    "name": "ipython",
    "version": 3
   },
   "file_extension": ".py",
   "mimetype": "text/x-python",
   "name": "python",
   "nbconvert_exporter": "python",
   "pygments_lexer": "ipython3",
   "version": "3.12.4"
  }
 },
 "nbformat": 4,
 "nbformat_minor": 2
}
