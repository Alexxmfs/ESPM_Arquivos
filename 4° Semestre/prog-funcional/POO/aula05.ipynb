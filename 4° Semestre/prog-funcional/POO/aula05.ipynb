{
 "cells": [
  {
   "cell_type": "code",
   "execution_count": 9,
   "metadata": {},
   "outputs": [
    {
     "name": "stdout",
     "output_type": "stream",
     "text": [
      "Paython\n",
      "None\n",
      "9.05\n",
      "Python\n",
      "None\n",
      "9.1\n"
     ]
    }
   ],
   "source": [
    "class Pessoa:\n",
    "    def __init__(self, altura, cor_cabelo, peso) -> None:\n",
    "        self.altura = altura\n",
    "        self.cor_cabelo = cor_cabelo\n",
    "        self.peso = peso\n",
    "        \n",
    "    def falar(self, frase):\n",
    "        print(frase)\n",
    "        \n",
    "    def andar(self, velocidade):\n",
    "        velocidade_real = velocidade - 0.01 * self.peso\n",
    "        return velocidade_real\n",
    "    \n",
    "class Professor(Pessoa):\n",
    "    def __init__(self, altura, cor_cabelo, peso, salario):\n",
    "        super().__init__(altura, cor_cabelo, peso)\n",
    "        self.salario = salario\n",
    "        \n",
    "        def falar(self, frase):\n",
    "            return frase + \" Vai cai na prova!\"\n",
    "        \n",
    "    \n",
    "def main():\n",
    "        pessoaObj = Pessoa(1.80, 'preto', 95.0)\n",
    "        print(pessoaObj.falar(\"Paython\"))\n",
    "        print(pessoaObj.andar(10))\n",
    "        \n",
    "        professorObj = Professor(1.86, 'castanhi', 90.0, 5000)\n",
    "        print(professorObj.falar(\"Python\"))\n",
    "        print(professorObj.andar(10))\n",
    "\n",
    "        \n",
    "if __name__ == \"__main__\":\n",
    "        main()"
   ]
  }
 ],
 "metadata": {
  "kernelspec": {
   "display_name": "Python 3",
   "language": "python",
   "name": "python3"
  },
  "language_info": {
   "codemirror_mode": {
    "name": "ipython",
    "version": 3
   },
   "file_extension": ".py",
   "mimetype": "text/x-python",
   "name": "python",
   "nbconvert_exporter": "python",
   "pygments_lexer": "ipython3",
   "version": "3.12.4"
  }
 },
 "nbformat": 4,
 "nbformat_minor": 2
}
