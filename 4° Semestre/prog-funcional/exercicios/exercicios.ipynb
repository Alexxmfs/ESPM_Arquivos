{
 "cells": [
  {
   "cell_type": "markdown",
   "metadata": {},
   "source": [
    "#### Exercicio 01 - Crie uma variável String e a exiba no sentido inverso"
   ]
  },
  {
   "cell_type": "code",
   "execution_count": 1,
   "metadata": {},
   "outputs": [
    {
     "name": "stdout",
     "output_type": "stream",
     "text": [
      "xelA\n"
     ]
    }
   ],
   "source": [
    "\n",
    "string = \"Alex\"\n",
    "inverte = string[::-1]\n",
    "print(inverte)"
   ]
  },
  {
   "cell_type": "markdown",
   "metadata": {},
   "source": [
    "#### Exercicio 02 Verifique se na frase “Python é uma linguagem excelente” existe as expressões: 'py’, 'ing’, ‘zzz’"
   ]
  },
  {
   "cell_type": "code",
   "execution_count": 2,
   "metadata": {},
   "outputs": [
    {
     "data": {
      "text/plain": [
       "False"
      ]
     },
     "execution_count": 2,
     "metadata": {},
     "output_type": "execute_result"
    }
   ],
   "source": [
    "frase = \"Python é uma Linguagem Execelente\"\n",
    "\n",
    "'py' in frase\n",
    "'ing' in frase\n",
    "'zzz' in frase"
   ]
  },
  {
   "cell_type": "markdown",
   "metadata": {},
   "source": [
    "#### Exercicio 03 \n",
    "##### Salario = 3450.45\n",
    "##### Despesas = 2456.2\n",
    "##### Calcule o percentual do salario comprometido com as despesas"
   ]
  },
  {
   "cell_type": "code",
   "execution_count": 6,
   "metadata": {},
   "outputs": [
    {
     "name": "stdout",
     "output_type": "stream",
     "text": [
      "71\n"
     ]
    }
   ],
   "source": [
    "salario = 3450.45\n",
    "despesas = 2456.2\n",
    "\n",
    "resultado = (despesas / salario) * 100\n",
    "print(round(resultado))"
   ]
  },
  {
   "cell_type": "markdown",
   "metadata": {},
   "source": [
    "#### Exercicio 04 - Crie um programa em Python capaz de receber dois números x e y e que imprima na tela o resultado da soma desres numeros"
   ]
  },
  {
   "cell_type": "code",
   "execution_count": 7,
   "metadata": {},
   "outputs": [
    {
     "name": "stdout",
     "output_type": "stream",
     "text": [
      "4\n"
     ]
    }
   ],
   "source": [
    "x = int(input(\"Digite um número: \"))\n",
    "y = int(input(\"Digite outro número: \"))\n",
    "\n",
    "print(x + y)"
   ]
  },
  {
   "cell_type": "markdown",
   "metadata": {},
   "source": [
    "#### Exercicio 05 - Faça uma rotina que receba a idade de um pessoa e determine se ela é: \n",
    "\n",
    "#### Menor de idade (<18)\n",
    "#### Adulto (entre 18 e 65)\n",
    "#### Melhor idade (66 e 100)\n",
    "#### Centenário > 100"
   ]
  },
  {
   "cell_type": "code",
   "execution_count": 8,
   "metadata": {},
   "outputs": [
    {
     "name": "stdout",
     "output_type": "stream",
     "text": [
      "Melhor idade\n"
     ]
    }
   ],
   "source": [
    "idade = int(input(\"Digite a sua idade: \"))\n",
    "\n",
    "if idade > 100:\n",
    "    print(\"Centenrário\")\n",
    "elif idade > 65:\n",
    "    print(\"Melhor idade\")\n",
    "elif idade > 18:\n",
    "    print(\"Adulto\")\n",
    "else:\n",
    "    print(\"Menor de idade\")"
   ]
  },
  {
   "cell_type": "markdown",
   "metadata": {},
   "source": [
    "#### Exercicio 06 - Exiba a palavra 'paralelepípedo’ com suas letras separadas por virgulas -> p,a,r,a,l,e,l,e,p,í,p,e,d,o,"
   ]
  },
  {
   "cell_type": "code",
   "execution_count": 9,
   "metadata": {},
   "outputs": [
    {
     "name": "stdout",
     "output_type": "stream",
     "text": [
      "p,a,r,a,l,e,l,e,p,i,p,e,d,o\n"
     ]
    }
   ],
   "source": [
    "palavra = 'paralelepipedo'\n",
    "letra = ','.join(palavra)\n",
    "print(letra)"
   ]
  },
  {
   "cell_type": "markdown",
   "metadata": {},
   "source": [
    "#### Exercicio 07 - cada nome em uma linha diferente -> [Daniel, Andre, Marcelo, Ana Paula]"
   ]
  },
  {
   "cell_type": "code",
   "execution_count": 11,
   "metadata": {},
   "outputs": [
    {
     "name": "stdout",
     "output_type": "stream",
     "text": [
      "Daniel\n",
      "Andre\n",
      "Marcelo\n",
      "Ana Paula\n"
     ]
    }
   ],
   "source": [
    "nomes = ['Daniel', 'Andre', 'Marcelo', 'Ana Paula']\n",
    "\n",
    "for nome in nomes:\n",
    "    print(nome)"
   ]
  },
  {
   "cell_type": "markdown",
   "metadata": {},
   "source": [
    "##### Exercicio 08 - Sorteie um numero de 0– 9 utilizando a função randint(0, 9) e solicite ao usuário inserir um numero até o mesmo acertar o valor sorteado randomicamente, ao acertar o valor exiba a frase “Número secreto x foi encontrado!” e pare o processamento."
   ]
  },
  {
   "cell_type": "code",
   "execution_count": 12,
   "metadata": {},
   "outputs": [
    {
     "name": "stdout",
     "output_type": "stream",
     "text": [
      "Tente novamente\n",
      "Numero secreto X foi encontrado!\n",
      "Tente novamente\n",
      "Numero secreto X foi encontrado!\n"
     ]
    }
   ],
   "source": [
    "from random import randint\n",
    "\n",
    "randomico = randint(0, 9)\n",
    "numero = int(input(\"Digite um número: \"))\n",
    "\n",
    "while numero != randomico:\n",
    "    print(\"Tente novamente\")\n",
    "    numero = int(input(\"Digite um número: \"))\n",
    "    \n",
    "    print(\"Numero secreto X foi encontrado!\")"
   ]
  },
  {
   "cell_type": "markdown",
   "metadata": {},
   "source": [
    "##### Exercicio 09 - Receba um número de entrada e faça uma sequência de Fibonacci de 10 posições\n"
   ]
  },
  {
   "cell_type": "code",
   "execution_count": 14,
   "metadata": {},
   "outputs": [
    {
     "name": "stdout",
     "output_type": "stream",
     "text": [
      "[3, 3, 6, 9, 15, 24, 39, 63, 102, 165]\n"
     ]
    }
   ],
   "source": [
    "x = int(input(\"Digite um número: \"))\n",
    "fibonacci = [x, x]\n",
    "for i in range(2, 10):\n",
    "    fibonacci.append(fibonacci[i-1] + fibonacci[i-2])\n",
    "\n",
    "print(fibonacci)"
   ]
  }
 ],
 "metadata": {
  "kernelspec": {
   "display_name": "Python 3",
   "language": "python",
   "name": "python3"
  },
  "language_info": {
   "codemirror_mode": {
    "name": "ipython",
    "version": 3
   },
   "file_extension": ".py",
   "mimetype": "text/x-python",
   "name": "python",
   "nbconvert_exporter": "python",
   "pygments_lexer": "ipython3",
   "version": "3.12.4"
  }
 },
 "nbformat": 4,
 "nbformat_minor": 2
}
